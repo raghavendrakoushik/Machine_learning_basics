{
 "cells": [
  {
   "cell_type": "code",
   "execution_count": 1,
   "metadata": {},
   "outputs": [],
   "source": [
    "import numpy as np\n",
    "import pandas as pd\n",
    "import matplotlib.pyplot as plt"
   ]
  },
  {
   "cell_type": "code",
   "execution_count": 2,
   "metadata": {},
   "outputs": [],
   "source": [
    "import tensorflow as tf"
   ]
  },
  {
   "cell_type": "code",
   "execution_count": 3,
   "metadata": {},
   "outputs": [
    {
     "data": {
      "text/plain": [
       "'2.5.0'"
      ]
     },
     "execution_count": 3,
     "metadata": {},
     "output_type": "execute_result"
    }
   ],
   "source": [
    "tf.__version__"
   ]
  },
  {
   "cell_type": "markdown",
   "metadata": {},
   "source": [
    "# Data Preprecessing"
   ]
  },
  {
   "cell_type": "code",
   "execution_count": 4,
   "metadata": {},
   "outputs": [],
   "source": [
    "data_set = pd.read_csv('Churn_Modelling.csv')"
   ]
  },
  {
   "cell_type": "code",
   "execution_count": 5,
   "metadata": {},
   "outputs": [],
   "source": [
    "x = data_set.iloc[:,3:-1].values\n",
    "y = data_set.iloc[:,-1].values"
   ]
  },
  {
   "cell_type": "code",
   "execution_count": 7,
   "metadata": {},
   "outputs": [],
   "source": [
    "#encoding the categorical variables\n",
    "\n",
    "#for gender label encoding\n",
    "from sklearn.preprocessing import LabelEncoder\n",
    "le = LabelEncoder()\n",
    "x[:,2] = le.fit_transform(x[:,2])"
   ]
  },
  {
   "cell_type": "code",
   "execution_count": 10,
   "metadata": {},
   "outputs": [],
   "source": [
    "# for geography the one hot encoding\n",
    "from sklearn.compose import ColumnTransformer\n",
    "from sklearn.preprocessing import OneHotEncoder\n",
    "ct = ColumnTransformer(transformers=[('encoder', OneHotEncoder(), [1])], remainder='passthrough')\n",
    "x = np.array(ct.fit_transform(x))"
   ]
  },
  {
   "cell_type": "code",
   "execution_count": 12,
   "metadata": {},
   "outputs": [],
   "source": [
    "#Splitting the data set\n",
    "from sklearn.model_selection import train_test_split\n",
    "x_train, x_test, y_train, y_test = train_test_split(x , y, test_size = 0.2 , random_state = 0)"
   ]
  },
  {
   "cell_type": "code",
   "execution_count": 13,
   "metadata": {},
   "outputs": [],
   "source": [
    "#scaling the data\n",
    "from sklearn.preprocessing import StandardScaler\n",
    "sc = StandardScaler()\n",
    "x_train = sc.fit_transform(x_train)\n",
    "x_test = sc.fit_transform(x_test)"
   ]
  },
  {
   "cell_type": "markdown",
   "metadata": {},
   "source": [
    "# Building ANN"
   ]
  },
  {
   "cell_type": "code",
   "execution_count": 14,
   "metadata": {},
   "outputs": [],
   "source": [
    "#initialising ANN\n",
    "ann = tf.keras.models.Sequential()"
   ]
  },
  {
   "cell_type": "code",
   "execution_count": 15,
   "metadata": {},
   "outputs": [],
   "source": [
    "#adding input and hidden layer\n",
    "\n",
    "ann.add(tf.keras.layers.Dense(units = 6, activation = 'relu'))  #Rectifier Activation function"
   ]
  },
  {
   "cell_type": "code",
   "execution_count": 16,
   "metadata": {},
   "outputs": [],
   "source": [
    "#adding second hidden layer\n",
    "\n",
    "ann.add(tf.keras.layers.Dense(units = 6, activation = 'relu'))  #Rectifier Activation function"
   ]
  },
  {
   "cell_type": "code",
   "execution_count": 17,
   "metadata": {},
   "outputs": [],
   "source": [
    "#adding output layer\n",
    "\n",
    "ann.add(tf.keras.layers.Dense(units = 1, activation = 'sigmoid'))  #sigmoid Activation function"
   ]
  },
  {
   "cell_type": "markdown",
   "metadata": {},
   "source": [
    "# Training the ANN"
   ]
  },
  {
   "cell_type": "code",
   "execution_count": 18,
   "metadata": {},
   "outputs": [],
   "source": [
    "#compile ANN\n",
    "\n",
    "ann.compile(optimizer= 'adam', loss = 'binary_crossentropy', metrics = ['accuracy'])"
   ]
  },
  {
   "cell_type": "code",
   "execution_count": 19,
   "metadata": {},
   "outputs": [
    {
     "name": "stdout",
     "output_type": "stream",
     "text": [
      "Epoch 1/100\n",
      "250/250 [==============================] - 1s 739us/step - loss: 0.7779 - accuracy: 0.4865\n",
      "Epoch 2/100\n",
      "250/250 [==============================] - 0s 741us/step - loss: 0.6204 - accuracy: 0.7887\n",
      "Epoch 3/100\n",
      "250/250 [==============================] - 0s 752us/step - loss: 0.5755 - accuracy: 0.8052\n",
      "Epoch 4/100\n",
      "250/250 [==============================] - 0s 741us/step - loss: 0.5432 - accuracy: 0.8120\n",
      "Epoch 5/100\n",
      "250/250 [==============================] - 0s 756us/step - loss: 0.5174 - accuracy: 0.8116\n",
      "Epoch 6/100\n",
      "250/250 [==============================] - 0s 734us/step - loss: 0.4928 - accuracy: 0.8136\n",
      "Epoch 7/100\n",
      "250/250 [==============================] - 0s 757us/step - loss: 0.4471 - accuracy: 0.8164\n",
      "Epoch 8/100\n",
      "250/250 [==============================] - 0s 792us/step - loss: 0.4123 - accuracy: 0.8242\n",
      "Epoch 9/100\n",
      "250/250 [==============================] - 0s 767us/step - loss: 0.3930 - accuracy: 0.8320\n",
      "Epoch 10/100\n",
      "250/250 [==============================] - 0s 743us/step - loss: 0.3771 - accuracy: 0.8419\n",
      "Epoch 11/100\n",
      "250/250 [==============================] - 0s 747us/step - loss: 0.3681 - accuracy: 0.8472\n",
      "Epoch 12/100\n",
      "250/250 [==============================] - 0s 751us/step - loss: 0.3631 - accuracy: 0.8495\n",
      "Epoch 13/100\n",
      "250/250 [==============================] - 0s 748us/step - loss: 0.3597 - accuracy: 0.8479\n",
      "Epoch 14/100\n",
      "250/250 [==============================] - 0s 753us/step - loss: 0.3571 - accuracy: 0.8510\n",
      "Epoch 15/100\n",
      "250/250 [==============================] - 0s 762us/step - loss: 0.3558 - accuracy: 0.8499\n",
      "Epoch 16/100\n",
      "250/250 [==============================] - 0s 738us/step - loss: 0.3537 - accuracy: 0.8519\n",
      "Epoch 17/100\n",
      "250/250 [==============================] - 0s 742us/step - loss: 0.3523 - accuracy: 0.8506\n",
      "Epoch 18/100\n",
      "250/250 [==============================] - 0s 805us/step - loss: 0.3515 - accuracy: 0.8509\n",
      "Epoch 19/100\n",
      "250/250 [==============================] - 0s 751us/step - loss: 0.3501 - accuracy: 0.8510\n",
      "Epoch 20/100\n",
      "250/250 [==============================] - 0s 760us/step - loss: 0.3493 - accuracy: 0.8521\n",
      "Epoch 21/100\n",
      "250/250 [==============================] - 0s 861us/step - loss: 0.3486 - accuracy: 0.8512\n",
      "Epoch 22/100\n",
      "250/250 [==============================] - 0s 885us/step - loss: 0.3481 - accuracy: 0.8558\n",
      "Epoch 23/100\n",
      "250/250 [==============================] - 0s 843us/step - loss: 0.3473 - accuracy: 0.8564\n",
      "Epoch 24/100\n",
      "250/250 [==============================] - 0s 936us/step - loss: 0.3463 - accuracy: 0.8559\n",
      "Epoch 25/100\n",
      "250/250 [==============================] - 0s 868us/step - loss: 0.3463 - accuracy: 0.8558\n",
      "Epoch 26/100\n",
      "250/250 [==============================] - 0s 803us/step - loss: 0.3455 - accuracy: 0.8574\n",
      "Epoch 27/100\n",
      "250/250 [==============================] - 0s 913us/step - loss: 0.3453 - accuracy: 0.8575\n",
      "Epoch 28/100\n",
      "250/250 [==============================] - 0s 900us/step - loss: 0.3446 - accuracy: 0.8586\n",
      "Epoch 29/100\n",
      "250/250 [==============================] - 0s 845us/step - loss: 0.3442 - accuracy: 0.8584\n",
      "Epoch 30/100\n",
      "250/250 [==============================] - 0s 804us/step - loss: 0.3439 - accuracy: 0.8590\n",
      "Epoch 31/100\n",
      "250/250 [==============================] - 0s 763us/step - loss: 0.3436 - accuracy: 0.8580\n",
      "Epoch 32/100\n",
      "250/250 [==============================] - 0s 754us/step - loss: 0.3431 - accuracy: 0.8586\n",
      "Epoch 33/100\n",
      "250/250 [==============================] - 0s 774us/step - loss: 0.3428 - accuracy: 0.8599\n",
      "Epoch 34/100\n",
      "250/250 [==============================] - 0s 767us/step - loss: 0.3425 - accuracy: 0.8612\n",
      "Epoch 35/100\n",
      "250/250 [==============================] - 0s 849us/step - loss: 0.3423 - accuracy: 0.8599\n",
      "Epoch 36/100\n",
      "250/250 [==============================] - 0s 911us/step - loss: 0.3415 - accuracy: 0.8618\n",
      "Epoch 37/100\n",
      "250/250 [==============================] - 0s 866us/step - loss: 0.3416 - accuracy: 0.8619\n",
      "Epoch 38/100\n",
      "250/250 [==============================] - 0s 836us/step - loss: 0.3412 - accuracy: 0.8624\n",
      "Epoch 39/100\n",
      "250/250 [==============================] - 0s 756us/step - loss: 0.3409 - accuracy: 0.8609\n",
      "Epoch 40/100\n",
      "250/250 [==============================] - 0s 754us/step - loss: 0.3408 - accuracy: 0.8609\n",
      "Epoch 41/100\n",
      "250/250 [==============================] - 0s 765us/step - loss: 0.3404 - accuracy: 0.8611\n",
      "Epoch 42/100\n",
      "250/250 [==============================] - 0s 785us/step - loss: 0.3403 - accuracy: 0.8621\n",
      "Epoch 43/100\n",
      "250/250 [==============================] - 0s 782us/step - loss: 0.3398 - accuracy: 0.8620\n",
      "Epoch 44/100\n",
      "250/250 [==============================] - 0s 790us/step - loss: 0.3397 - accuracy: 0.8611\n",
      "Epoch 45/100\n",
      "250/250 [==============================] - 0s 769us/step - loss: 0.3393 - accuracy: 0.8621\n",
      "Epoch 46/100\n",
      "250/250 [==============================] - 0s 771us/step - loss: 0.3391 - accuracy: 0.8629\n",
      "Epoch 47/100\n",
      "250/250 [==============================] - 0s 983us/step - loss: 0.3390 - accuracy: 0.8636\n",
      "Epoch 48/100\n",
      "250/250 [==============================] - 0s 971us/step - loss: 0.3387 - accuracy: 0.8631\n",
      "Epoch 49/100\n",
      "250/250 [==============================] - 0s 928us/step - loss: 0.3387 - accuracy: 0.8631\n",
      "Epoch 50/100\n",
      "250/250 [==============================] - 0s 856us/step - loss: 0.3384 - accuracy: 0.8634\n",
      "Epoch 51/100\n",
      "250/250 [==============================] - 0s 764us/step - loss: 0.3382 - accuracy: 0.8636\n",
      "Epoch 52/100\n",
      "250/250 [==============================] - 0s 779us/step - loss: 0.3382 - accuracy: 0.8648\n",
      "Epoch 53/100\n",
      "250/250 [==============================] - 0s 813us/step - loss: 0.3381 - accuracy: 0.8639\n",
      "Epoch 54/100\n",
      "250/250 [==============================] - 0s 754us/step - loss: 0.3378 - accuracy: 0.8650\n",
      "Epoch 55/100\n",
      "250/250 [==============================] - 0s 748us/step - loss: 0.3378 - accuracy: 0.8634\n",
      "Epoch 56/100\n",
      "250/250 [==============================] - 0s 769us/step - loss: 0.3374 - accuracy: 0.8640\n",
      "Epoch 57/100\n",
      "250/250 [==============================] - 0s 764us/step - loss: 0.3378 - accuracy: 0.8634\n",
      "Epoch 58/100\n",
      "250/250 [==============================] - 0s 754us/step - loss: 0.3373 - accuracy: 0.8644\n",
      "Epoch 59/100\n",
      "250/250 [==============================] - 0s 800us/step - loss: 0.3373 - accuracy: 0.8639\n",
      "Epoch 60/100\n",
      "250/250 [==============================] - 0s 842us/step - loss: 0.3375 - accuracy: 0.8635\n",
      "Epoch 61/100\n",
      "250/250 [==============================] - 0s 865us/step - loss: 0.3370 - accuracy: 0.8644\n",
      "Epoch 62/100\n",
      "250/250 [==============================] - 0s 853us/step - loss: 0.3371 - accuracy: 0.8643\n",
      "Epoch 63/100\n",
      "250/250 [==============================] - 0s 838us/step - loss: 0.3369 - accuracy: 0.8639\n",
      "Epoch 64/100\n",
      "250/250 [==============================] - 0s 814us/step - loss: 0.3368 - accuracy: 0.8648\n",
      "Epoch 65/100\n",
      "250/250 [==============================] - 0s 813us/step - loss: 0.3367 - accuracy: 0.8654\n",
      "Epoch 66/100\n",
      "250/250 [==============================] - 0s 793us/step - loss: 0.3366 - accuracy: 0.8656\n",
      "Epoch 67/100\n",
      "250/250 [==============================] - 0s 853us/step - loss: 0.3365 - accuracy: 0.8633\n",
      "Epoch 68/100\n",
      "250/250 [==============================] - 0s 865us/step - loss: 0.3364 - accuracy: 0.8637\n",
      "Epoch 69/100\n",
      "250/250 [==============================] - 0s 850us/step - loss: 0.3362 - accuracy: 0.8649\n",
      "Epoch 70/100\n",
      "250/250 [==============================] - 0s 808us/step - loss: 0.3359 - accuracy: 0.8643\n",
      "Epoch 71/100\n",
      "250/250 [==============================] - 0s 816us/step - loss: 0.3361 - accuracy: 0.8643\n",
      "Epoch 72/100\n",
      "250/250 [==============================] - 0s 770us/step - loss: 0.3359 - accuracy: 0.8648\n",
      "Epoch 73/100\n",
      "250/250 [==============================] - 0s 763us/step - loss: 0.3360 - accuracy: 0.8664\n",
      "Epoch 74/100\n",
      "250/250 [==============================] - 0s 786us/step - loss: 0.3357 - accuracy: 0.8637\n",
      "Epoch 75/100\n",
      "250/250 [==============================] - 0s 784us/step - loss: 0.3354 - accuracy: 0.8652\n",
      "Epoch 76/100\n",
      "250/250 [==============================] - 0s 769us/step - loss: 0.3355 - accuracy: 0.8650\n",
      "Epoch 77/100\n",
      "250/250 [==============================] - 0s 948us/step - loss: 0.3358 - accuracy: 0.8650\n",
      "Epoch 78/100\n",
      "250/250 [==============================] - 0s 862us/step - loss: 0.3352 - accuracy: 0.8649\n",
      "Epoch 79/100\n"
     ]
    },
    {
     "name": "stdout",
     "output_type": "stream",
     "text": [
      "250/250 [==============================] - 0s 839us/step - loss: 0.3354 - accuracy: 0.8650\n",
      "Epoch 80/100\n",
      "250/250 [==============================] - 0s 814us/step - loss: 0.3351 - accuracy: 0.8640\n",
      "Epoch 81/100\n",
      "250/250 [==============================] - 0s 785us/step - loss: 0.3354 - accuracy: 0.8652\n",
      "Epoch 82/100\n",
      "250/250 [==============================] - 0s 751us/step - loss: 0.3352 - accuracy: 0.8656\n",
      "Epoch 83/100\n",
      "250/250 [==============================] - 0s 740us/step - loss: 0.3349 - accuracy: 0.8650\n",
      "Epoch 84/100\n",
      "250/250 [==============================] - 0s 760us/step - loss: 0.3352 - accuracy: 0.8669\n",
      "Epoch 85/100\n",
      "250/250 [==============================] - 0s 757us/step - loss: 0.3346 - accuracy: 0.8643\n",
      "Epoch 86/100\n",
      "250/250 [==============================] - 0s 752us/step - loss: 0.3348 - accuracy: 0.8649\n",
      "Epoch 87/100\n",
      "250/250 [==============================] - 0s 746us/step - loss: 0.3341 - accuracy: 0.8661\n",
      "Epoch 88/100\n",
      "250/250 [==============================] - 0s 750us/step - loss: 0.3348 - accuracy: 0.8665\n",
      "Epoch 89/100\n",
      "250/250 [==============================] - 0s 742us/step - loss: 0.3347 - accuracy: 0.8652\n",
      "Epoch 90/100\n",
      "250/250 [==============================] - 0s 744us/step - loss: 0.3344 - accuracy: 0.8651\n",
      "Epoch 91/100\n",
      "250/250 [==============================] - 0s 791us/step - loss: 0.3343 - accuracy: 0.8666\n",
      "Epoch 92/100\n",
      "250/250 [==============================] - 0s 839us/step - loss: 0.3344 - accuracy: 0.8668\n",
      "Epoch 93/100\n",
      "250/250 [==============================] - 0s 822us/step - loss: 0.3339 - accuracy: 0.8651\n",
      "Epoch 94/100\n",
      "250/250 [==============================] - 0s 813us/step - loss: 0.3346 - accuracy: 0.8665\n",
      "Epoch 95/100\n",
      "250/250 [==============================] - 0s 810us/step - loss: 0.3344 - accuracy: 0.8649\n",
      "Epoch 96/100\n",
      "250/250 [==============================] - 0s 798us/step - loss: 0.3339 - accuracy: 0.8668\n",
      "Epoch 97/100\n",
      "250/250 [==============================] - 0s 766us/step - loss: 0.3342 - accuracy: 0.8665\n",
      "Epoch 98/100\n",
      "250/250 [==============================] - 0s 759us/step - loss: 0.3341 - accuracy: 0.8655\n",
      "Epoch 99/100\n",
      "250/250 [==============================] - 0s 757us/step - loss: 0.3341 - accuracy: 0.8658\n",
      "Epoch 100/100\n",
      "250/250 [==============================] - 0s 749us/step - loss: 0.3339 - accuracy: 0.8651\n"
     ]
    },
    {
     "data": {
      "text/plain": [
       "<tensorflow.python.keras.callbacks.History at 0x7fea9188a290>"
      ]
     },
     "execution_count": 19,
     "metadata": {},
     "output_type": "execute_result"
    }
   ],
   "source": [
    "#training the ANN model\n",
    "\n",
    "ann.fit(x_train , y_train, batch_size = 32 , epochs= 100)"
   ]
  },
  {
   "cell_type": "markdown",
   "metadata": {},
   "source": [
    "# Predicting the results"
   ]
  },
  {
   "cell_type": "code",
   "execution_count": 24,
   "metadata": {},
   "outputs": [
    {
     "name": "stdout",
     "output_type": "stream",
     "text": [
      "[[False]]\n"
     ]
    }
   ],
   "source": [
    "#ann.predict(sc.transform([[ct.fit_transform('France'), 600, le.fit_transform('Male'), 40, 3, 60000, 2, 1, 1, 50000]]))\n",
    "\n",
    "ann.predict(sc.transform([[1,0,0, 600, 1, 40, 3, 60000, 2, 1, 1, 50000]]))\n",
    "\n",
    "print(ann.predict(sc.transform([[1,0,0, 600, 1, 40, 3, 60000, 2, 1, 1, 50000]]))> 0.5)"
   ]
  },
  {
   "cell_type": "code",
   "execution_count": 25,
   "metadata": {},
   "outputs": [
    {
     "name": "stdout",
     "output_type": "stream",
     "text": [
      "[[0 0]\n",
      " [0 1]\n",
      " [0 0]\n",
      " ...\n",
      " [0 0]\n",
      " [0 0]\n",
      " [0 0]]\n"
     ]
    }
   ],
   "source": [
    "#pedicting the test set\n",
    "\n",
    "y_pred = ann.predict(x_test)\n",
    "y_pred = (y_pred > 0.5 )\n",
    "\n",
    "print(np.concatenate((y_pred.reshape(len(y_pred) , 1) , y_test.reshape(len(y_test), 1)),1))"
   ]
  },
  {
   "cell_type": "code",
   "execution_count": 26,
   "metadata": {},
   "outputs": [
    {
     "name": "stdout",
     "output_type": "stream",
     "text": [
      "[[1536   59]\n",
      " [ 222  183]]\n",
      "0.8595\n"
     ]
    }
   ],
   "source": [
    "#confusion Matrix\n",
    "\n",
    "from sklearn.metrics import confusion_matrix, accuracy_score\n",
    "cm = confusion_matrix(y_test , y_pred)\n",
    "print(cm)\n",
    "\n",
    "acc = accuracy_score(y_test , y_pred)\n",
    "print(acc)"
   ]
  },
  {
   "cell_type": "code",
   "execution_count": null,
   "metadata": {},
   "outputs": [],
   "source": []
  }
 ],
 "metadata": {
  "kernelspec": {
   "display_name": "Python 3",
   "language": "python",
   "name": "python3"
  },
  "language_info": {
   "codemirror_mode": {
    "name": "ipython",
    "version": 3
   },
   "file_extension": ".py",
   "mimetype": "text/x-python",
   "name": "python",
   "nbconvert_exporter": "python",
   "pygments_lexer": "ipython3",
   "version": "3.7.6"
  }
 },
 "nbformat": 4,
 "nbformat_minor": 4
}
